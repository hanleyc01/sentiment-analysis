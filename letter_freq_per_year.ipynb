{
 "cells": [
  {
   "cell_type": "markdown",
   "metadata": {},
   "source": [
    "# Graphing out language frequencies per year\n",
    "\n",
    "Because knowing how the languages are distributed over the years is important, I think that it would be helpful to try and graph out all of the languages as they are distributed over the years, by quantity of letters. Some of this was already done in `processing.ipynb`, but it\n",
    "would be good to get some cleaner graphs about that."
   ]
  },
  {
   "cell_type": "code",
   "execution_count": 17,
   "metadata": {},
   "outputs": [
    {
     "data": {
      "text/plain": [
       "600"
      ]
     },
     "execution_count": 17,
     "metadata": {},
     "output_type": "execute_result"
    }
   ],
   "source": [
    "import pandas as pd\n",
    "import matplotlib.pyplot as plt\n",
    "%matplotlib inline\n",
    "\n",
    "dates = pd.read_csv('per_year_sentiment.csv')"
   ]
  },
  {
   "cell_type": "code",
   "execution_count": 5,
   "metadata": {},
   "outputs": [
    {
     "data": {
      "text/html": [
       "<div>\n",
       "<style scoped>\n",
       "    .dataframe tbody tr th:only-of-type {\n",
       "        vertical-align: middle;\n",
       "    }\n",
       "\n",
       "    .dataframe tbody tr th {\n",
       "        vertical-align: top;\n",
       "    }\n",
       "\n",
       "    .dataframe thead th {\n",
       "        text-align: right;\n",
       "    }\n",
       "</style>\n",
       "<table border=\"1\" class=\"dataframe\">\n",
       "  <thead>\n",
       "    <tr style=\"text-align: right;\">\n",
       "      <th></th>\n",
       "      <th>Unnamed: 0</th>\n",
       "      <th>meta-date</th>\n",
       "      <th>meta-href</th>\n",
       "      <th>meta-text</th>\n",
       "      <th>meta-author</th>\n",
       "      <th>meta-lang</th>\n",
       "      <th>meta-sentiment</th>\n",
       "      <th>meta_date</th>\n",
       "    </tr>\n",
       "  </thead>\n",
       "  <tbody>\n",
       "    <tr>\n",
       "      <th>0</th>\n",
       "      <td>0</td>\n",
       "      <td>1866-05-31</td>\n",
       "      <td>https://megadigital.bbaw.de/briefe/detail.xql?...</td>\n",
       "      <td>\\n\\n                |  47, Princess Street,Man...</td>\n",
       "      <td>Ernest (Ernst) Charles Jones</td>\n",
       "      <td>en</td>\n",
       "      <td>('pos', 0.076)</td>\n",
       "      <td>1866-05-31</td>\n",
       "    </tr>\n",
       "    <tr>\n",
       "      <th>1</th>\n",
       "      <td>1</td>\n",
       "      <td>1866-05-16</td>\n",
       "      <td>https://megadigital.bbaw.de/briefe/detail.xql?...</td>\n",
       "      <td>\\n\\n                |  Mchr 16 Mai 1866.\\nLieb...</td>\n",
       "      <td>Friedrich Engels</td>\n",
       "      <td>de</td>\n",
       "      <td>('neg', 0.8568170070648193)</td>\n",
       "      <td>1866-05-16</td>\n",
       "    </tr>\n",
       "    <tr>\n",
       "      <th>2</th>\n",
       "      <td>2</td>\n",
       "      <td>1866-09-05</td>\n",
       "      <td>https://megadigital.bbaw.de/briefe/detail.xql?...</td>\n",
       "      <td>\\n\\n                |  5 Sept. 1866.\\nMy belov...</td>\n",
       "      <td>Karl Marx</td>\n",
       "      <td>en</td>\n",
       "      <td>('pos', 0.134)</td>\n",
       "      <td>1866-09-05</td>\n",
       "    </tr>\n",
       "    <tr>\n",
       "      <th>3</th>\n",
       "      <td>3</td>\n",
       "      <td>1866-08-31</td>\n",
       "      <td>https://megadigital.bbaw.de/briefe/detail.xql?...</td>\n",
       "      <td>\\n\\n                |  18 Bouverie StFriday Af...</td>\n",
       "      <td>William Randall Cremer</td>\n",
       "      <td>en</td>\n",
       "      <td>('pos', 0.135)</td>\n",
       "      <td>1866-08-31</td>\n",
       "    </tr>\n",
       "    <tr>\n",
       "      <th>4</th>\n",
       "      <td>4</td>\n",
       "      <td>1866-11-12</td>\n",
       "      <td>https://megadigital.bbaw.de/briefe/detail.xql?...</td>\n",
       "      <td>\\n\\n                |  Londres. 12 Nov.\\n     ...</td>\n",
       "      <td>François Lafargue</td>\n",
       "      <td>fr</td>\n",
       "      <td>('pos', 0.6401874423027039)</td>\n",
       "      <td>1866-11-12</td>\n",
       "    </tr>\n",
       "  </tbody>\n",
       "</table>\n",
       "</div>"
      ],
      "text/plain": [
       "   Unnamed: 0   meta-date                                          meta-href  \\\n",
       "0           0  1866-05-31  https://megadigital.bbaw.de/briefe/detail.xql?...   \n",
       "1           1  1866-05-16  https://megadigital.bbaw.de/briefe/detail.xql?...   \n",
       "2           2  1866-09-05  https://megadigital.bbaw.de/briefe/detail.xql?...   \n",
       "3           3  1866-08-31  https://megadigital.bbaw.de/briefe/detail.xql?...   \n",
       "4           4  1866-11-12  https://megadigital.bbaw.de/briefe/detail.xql?...   \n",
       "\n",
       "                                           meta-text  \\\n",
       "0  \\n\\n                |  47, Princess Street,Man...   \n",
       "1  \\n\\n                |  Mchr 16 Mai 1866.\\nLieb...   \n",
       "2  \\n\\n                |  5 Sept. 1866.\\nMy belov...   \n",
       "3  \\n\\n                |  18 Bouverie StFriday Af...   \n",
       "4  \\n\\n                |  Londres. 12 Nov.\\n     ...   \n",
       "\n",
       "                    meta-author meta-lang               meta-sentiment  \\\n",
       "0  Ernest (Ernst) Charles Jones        en               ('pos', 0.076)   \n",
       "1              Friedrich Engels        de  ('neg', 0.8568170070648193)   \n",
       "2                     Karl Marx        en               ('pos', 0.134)   \n",
       "3        William Randall Cremer        en               ('pos', 0.135)   \n",
       "4             François Lafargue        fr  ('pos', 0.6401874423027039)   \n",
       "\n",
       "   meta_date  \n",
       "0 1866-05-31  \n",
       "1 1866-05-16  \n",
       "2 1866-09-05  \n",
       "3 1866-08-31  \n",
       "4 1866-11-12  "
      ]
     },
     "execution_count": 5,
     "metadata": {},
     "output_type": "execute_result"
    }
   ],
   "source": [
    "dates[\"meta_date\"] = pd.to_datetime(dates[\"meta-date\"])\n",
    "dates.head()"
   ]
  },
  {
   "cell_type": "code",
   "execution_count": 6,
   "metadata": {},
   "outputs": [],
   "source": [
    "date_freq = dict()\n",
    "\n",
    "for date in dates['meta_date']:\n",
    "  dfs = dates[dates['meta_date'] == date]\n",
    "  ens = len(dfs['meta-lang'] == 'en')\n",
    "  frs = len(dfs[dfs['meta-lang'] == 'fr'])\n",
    "  des = len(dfs[dfs['meta-lang'] == 'de'])\n",
    "  rus = len(dfs[dfs['meta-lang'] == 'ru'])\n",
    "  if date in date_freq:\n",
    "      date_freq[date]['en'] += ens\n",
    "      date_freq[date]['fr'] += frs\n",
    "      date_freq[date]['de'] += des\n",
    "      date_freq[date]['ru'] += rus\n",
    "  else:\n",
    "      date_freq[date] = dict()\n",
    "      date_freq[date]['en'] = ens\n",
    "      date_freq[date]['fr'] = frs\n",
    "      date_freq[date]['de'] = des\n",
    "      date_freq[date]['ru'] = rus"
   ]
  },
  {
   "cell_type": "code",
   "execution_count": 16,
   "metadata": {},
   "outputs": [
    {
     "data": {
      "image/png": "[encoded data removed]",
      "text/plain": [
       "<Figure size 640x480 with 1 Axes>"
      ]
     },
     "metadata": {},
     "output_type": "display_data"
    }
   ],
   "source": [
    "\n",
    "ds = list(date_freq.keys())\n",
    "languages = ['en', 'de', 'ru', 'fr']\n",
    "\n",
    "for language in languages:\n",
    "    freqs = [entry[language] for entry in date_freq.values()]\n",
    "    plt.bar(ds, freqs, width=10, label=language)\n",
    "\n",
    "plt.xticks(rotation=45, ha=\"right\")\n",
    "plt.xlabel('Date')\n",
    "plt.ylabel('Frequency')\n",
    "plt.ylim((0, 20))\n",
    "plt.title('Language Frequencies Over Time')\n",
    "plt.legend()\n",
    "\n",
    "plt.tight_layout()\n",
    "plt.show()\n"
   ]
  },
  {
   "cell_type": "code",
   "execution_count": null,
   "metadata": {},
   "outputs": [],
   "source": []
  }
 ],
 "metadata": {
  "kernelspec": {
   "display_name": "lingstats",
   "language": "python",
   "name": "python3"
  },
  "language_info": {
   "codemirror_mode": {
    "name": "ipython",
    "version": 3
   },
   "file_extension": ".py",
   "mimetype": "text/x-python",
   "name": "python",
   "nbconvert_exporter": "python",
   "pygments_lexer": "ipython3",
   "version": "3.11.5"
  }
 },
 "nbformat": 4,
 "nbformat_minor": 2
}
